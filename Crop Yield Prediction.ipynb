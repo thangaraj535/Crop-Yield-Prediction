{
 "cells": [
  {
   "cell_type": "code",
   "execution_count": 1,
   "metadata": {},
   "outputs": [],
   "source": [
    "import numpy as np\n",
    "import matplotlib.pyplot as plt\n",
    "import pandas as pd\n",
    "from sklearn.linear_model import LinearRegression\n",
    "from simple_colors import *"
   ]
  },
  {
   "cell_type": "code",
   "execution_count": 2,
   "metadata": {},
   "outputs": [],
   "source": [
    "df=pd.read_csv(\"C:/Users/RSB - Thangaraj/Task_files/tn.csv\")"
   ]
  },
  {
   "cell_type": "code",
   "execution_count": 3,
   "metadata": {},
   "outputs": [],
   "source": [
    "df['Yield'] = df['Production'] / df['Area']"
   ]
  },
  {
   "cell_type": "code",
   "execution_count": 4,
   "metadata": {},
   "outputs": [
    {
     "data": {
      "text/html": [
       "<div>\n",
       "<style scoped>\n",
       "    .dataframe tbody tr th:only-of-type {\n",
       "        vertical-align: middle;\n",
       "    }\n",
       "\n",
       "    .dataframe tbody tr th {\n",
       "        vertical-align: top;\n",
       "    }\n",
       "\n",
       "    .dataframe thead th {\n",
       "        text-align: right;\n",
       "    }\n",
       "</style>\n",
       "<table border=\"1\" class=\"dataframe\">\n",
       "  <thead>\n",
       "    <tr style=\"text-align: right;\">\n",
       "      <th></th>\n",
       "      <th>State</th>\n",
       "      <th>District</th>\n",
       "      <th>Year</th>\n",
       "      <th>Season</th>\n",
       "      <th>Crop</th>\n",
       "      <th>Area</th>\n",
       "      <th>Production</th>\n",
       "      <th>Yield</th>\n",
       "    </tr>\n",
       "  </thead>\n",
       "  <tbody>\n",
       "    <tr>\n",
       "      <th>0</th>\n",
       "      <td>Tamil Nadu</td>\n",
       "      <td>ARIYALUR</td>\n",
       "      <td>2008</td>\n",
       "      <td>Kharif</td>\n",
       "      <td>Rice</td>\n",
       "      <td>24574</td>\n",
       "      <td>76113.0</td>\n",
       "      <td>3.097298</td>\n",
       "    </tr>\n",
       "    <tr>\n",
       "      <th>1</th>\n",
       "      <td>Tamil Nadu</td>\n",
       "      <td>ARIYALUR</td>\n",
       "      <td>2008</td>\n",
       "      <td>Whole Year</td>\n",
       "      <td>Arhar/Tur</td>\n",
       "      <td>209</td>\n",
       "      <td>159.0</td>\n",
       "      <td>0.760766</td>\n",
       "    </tr>\n",
       "    <tr>\n",
       "      <th>2</th>\n",
       "      <td>Tamil Nadu</td>\n",
       "      <td>ARIYALUR</td>\n",
       "      <td>2008</td>\n",
       "      <td>Whole Year</td>\n",
       "      <td>Bajra</td>\n",
       "      <td>565</td>\n",
       "      <td>949.0</td>\n",
       "      <td>1.679646</td>\n",
       "    </tr>\n",
       "    <tr>\n",
       "      <th>3</th>\n",
       "      <td>Tamil Nadu</td>\n",
       "      <td>ARIYALUR</td>\n",
       "      <td>2008</td>\n",
       "      <td>Whole Year</td>\n",
       "      <td>Banana</td>\n",
       "      <td>190</td>\n",
       "      <td>8168.0</td>\n",
       "      <td>42.989474</td>\n",
       "    </tr>\n",
       "    <tr>\n",
       "      <th>4</th>\n",
       "      <td>Tamil Nadu</td>\n",
       "      <td>ARIYALUR</td>\n",
       "      <td>2008</td>\n",
       "      <td>Whole Year</td>\n",
       "      <td>Cashewnut</td>\n",
       "      <td>31113</td>\n",
       "      <td>9951.0</td>\n",
       "      <td>0.319834</td>\n",
       "    </tr>\n",
       "    <tr>\n",
       "      <th>...</th>\n",
       "      <td>...</td>\n",
       "      <td>...</td>\n",
       "      <td>...</td>\n",
       "      <td>...</td>\n",
       "      <td>...</td>\n",
       "      <td>...</td>\n",
       "      <td>...</td>\n",
       "      <td>...</td>\n",
       "    </tr>\n",
       "    <tr>\n",
       "      <th>13310</th>\n",
       "      <td>Tamil Nadu</td>\n",
       "      <td>VIRUDHUNAGAR</td>\n",
       "      <td>2013</td>\n",
       "      <td>Whole Year</td>\n",
       "      <td>Small millets</td>\n",
       "      <td>1187</td>\n",
       "      <td>676.0</td>\n",
       "      <td>0.569503</td>\n",
       "    </tr>\n",
       "    <tr>\n",
       "      <th>13311</th>\n",
       "      <td>Tamil Nadu</td>\n",
       "      <td>VIRUDHUNAGAR</td>\n",
       "      <td>2013</td>\n",
       "      <td>Whole Year</td>\n",
       "      <td>Sugarcane</td>\n",
       "      <td>2917</td>\n",
       "      <td>296017.0</td>\n",
       "      <td>101.479945</td>\n",
       "    </tr>\n",
       "    <tr>\n",
       "      <th>13312</th>\n",
       "      <td>Tamil Nadu</td>\n",
       "      <td>VIRUDHUNAGAR</td>\n",
       "      <td>2013</td>\n",
       "      <td>Whole Year</td>\n",
       "      <td>Sweet potato</td>\n",
       "      <td>4</td>\n",
       "      <td>84.0</td>\n",
       "      <td>21.000000</td>\n",
       "    </tr>\n",
       "    <tr>\n",
       "      <th>13313</th>\n",
       "      <td>Tamil Nadu</td>\n",
       "      <td>VIRUDHUNAGAR</td>\n",
       "      <td>2013</td>\n",
       "      <td>Whole Year</td>\n",
       "      <td>Tapioca</td>\n",
       "      <td>4</td>\n",
       "      <td>120.0</td>\n",
       "      <td>30.000000</td>\n",
       "    </tr>\n",
       "    <tr>\n",
       "      <th>13314</th>\n",
       "      <td>Tamil Nadu</td>\n",
       "      <td>VIRUDHUNAGAR</td>\n",
       "      <td>2013</td>\n",
       "      <td>Whole Year</td>\n",
       "      <td>Turmeric</td>\n",
       "      <td>4</td>\n",
       "      <td>15.0</td>\n",
       "      <td>3.750000</td>\n",
       "    </tr>\n",
       "  </tbody>\n",
       "</table>\n",
       "<p>13315 rows × 8 columns</p>\n",
       "</div>"
      ],
      "text/plain": [
       "            State      District  Year       Season           Crop   Area  \\\n",
       "0      Tamil Nadu      ARIYALUR  2008  Kharif                Rice  24574   \n",
       "1      Tamil Nadu      ARIYALUR  2008  Whole Year       Arhar/Tur    209   \n",
       "2      Tamil Nadu      ARIYALUR  2008  Whole Year           Bajra    565   \n",
       "3      Tamil Nadu      ARIYALUR  2008  Whole Year          Banana    190   \n",
       "4      Tamil Nadu      ARIYALUR  2008  Whole Year       Cashewnut  31113   \n",
       "...           ...           ...   ...          ...            ...    ...   \n",
       "13310  Tamil Nadu  VIRUDHUNAGAR  2013  Whole Year   Small millets   1187   \n",
       "13311  Tamil Nadu  VIRUDHUNAGAR  2013  Whole Year       Sugarcane   2917   \n",
       "13312  Tamil Nadu  VIRUDHUNAGAR  2013  Whole Year    Sweet potato      4   \n",
       "13313  Tamil Nadu  VIRUDHUNAGAR  2013  Whole Year         Tapioca      4   \n",
       "13314  Tamil Nadu  VIRUDHUNAGAR  2013  Whole Year        Turmeric      4   \n",
       "\n",
       "       Production       Yield  \n",
       "0         76113.0    3.097298  \n",
       "1           159.0    0.760766  \n",
       "2           949.0    1.679646  \n",
       "3          8168.0   42.989474  \n",
       "4          9951.0    0.319834  \n",
       "...           ...         ...  \n",
       "13310       676.0    0.569503  \n",
       "13311    296017.0  101.479945  \n",
       "13312        84.0   21.000000  \n",
       "13313       120.0   30.000000  \n",
       "13314        15.0    3.750000  \n",
       "\n",
       "[13315 rows x 8 columns]"
      ]
     },
     "execution_count": 4,
     "metadata": {},
     "output_type": "execute_result"
    }
   ],
   "source": [
    "df = df.drop(['District_Id','Crop_Id'],axis=1)\n",
    "df"
   ]
  },
  {
   "cell_type": "code",
   "execution_count": 5,
   "metadata": {},
   "outputs": [
    {
     "name": "stdout",
     "output_type": "stream",
     "text": [
      "\u001b[1;34m('Please select the District you want to predict : ', array(['ARIYALUR', 'COIMBATORE', 'CUDDALORE', 'DHARMAPURI', 'DINDIGUL',\n",
      "       'ERODE', 'KANCHIPURAM', 'KANNIYAKUMARI', 'KARUR', 'KRISHNAGIRI',\n",
      "       'MADURAI', 'NAGAPATTINAM', 'NAMAKKAL', 'PERAMBALUR', 'PUDUKKOTTAI',\n",
      "       'RAMANATHAPURAM', 'SALEM', 'SIVAGANGA', 'THANJAVUR',\n",
      "       'THE NILGIRIS', 'THENI', 'THIRUVALLUR', 'THIRUVARUR',\n",
      "       'TIRUCHIRAPPALLI', 'TIRUNELVELI', 'TIRUPPUR', 'TIRUVANNAMALAI',\n",
      "       'TUTICORIN', 'VELLORE', 'VILLUPURAM', 'VIRUDHUNAGAR'], dtype=object))\u001b[0m\n",
      "Enter the District : THANJAVUR\n",
      "\u001b[1;32m('Please select the District you want to predict : ', array(['Rice', 'Arhar/Tur', 'Bajra', 'Banana', 'Cashewnut', 'Castor seed',\n",
      "       'Coconut ', 'Coriander', 'Cotton(lint)', 'Dry chillies',\n",
      "       'Groundnut', 'Jowar', 'Maize', 'Moong(Green Gram)', 'Onion',\n",
      "       'Ragi', 'Sugarcane', 'Sunflower', 'Sweet potato', 'Tapioca',\n",
      "       'Turmeric', 'Urad', 'Small millets', 'Sesamum', 'Horse-gram',\n",
      "       'Tobacco', 'Black pepper', 'Cardamom', 'Gram', 'Pulses total',\n",
      "       'Total foodgrain', 'Wheat', 'Sannhamp', 'Korra', 'Samai',\n",
      "       'Guar seed', 'Other Cereals & Millets', 'Other Kharif pulses',\n",
      "       'Rapeseed &Mustard', 'Varagu', 'Arecanut', 'Ash Gourd',\n",
      "       'Beans & Mutter(Vegetable)', 'Beet Root', 'Bhindi', 'Bitter Gourd',\n",
      "       'Bottle Gourd', 'Brinjal', 'Cauliflower', 'Citrus Fruit',\n",
      "       'Cucumber', 'Drum Stick', 'Garlic', 'Grapes', 'Jack Fruit',\n",
      "       'Lab-Lab', 'Mango', 'Orange', 'Other Citrus Fruit',\n",
      "       'Other Fresh Fruits', 'Other Vegetables', 'Papaya', 'Pome Fruit',\n",
      "       'Pome Granet', 'Redish', 'Ribed Guard', 'Snak Guard', 'Tomato',\n",
      "       'Water Melon', 'Yam', 'Cabbage', 'Pump Kin', 'Dry ginger',\n",
      "       'Potato', 'Carrot', 'Pineapple', 'Mesta', 'Apple', 'Peach', 'Pear',\n",
      "       'Plums', 'Turnip', 'Litchi', 'Ber'], dtype=object))\u001b[0m\n",
      "Enter the Crop : rice\n",
      "Enter the Land Area : 25000\n"
     ]
    }
   ],
   "source": [
    "print(blue((\"Please select the District you want to predict : \",df.District.unique()),['bold']))\n",
    "dist = str(input(\"Enter the District : \").upper())\n",
    "District = dist\n",
    "print(green((\"Please select the District you want to predict : \",df.Crop.unique()),['bold']))\n",
    "crop = str(input(\"Enter the Crop : \")).capitalize()\n",
    "Crop = crop\n",
    "area = input(\"Enter the Land Area : \")\n",
    "Area=int(area)"
   ]
  },
  {
   "cell_type": "code",
   "execution_count": 6,
   "metadata": {},
   "outputs": [
    {
     "data": {
      "text/html": [
       "<div>\n",
       "<style scoped>\n",
       "    .dataframe tbody tr th:only-of-type {\n",
       "        vertical-align: middle;\n",
       "    }\n",
       "\n",
       "    .dataframe tbody tr th {\n",
       "        vertical-align: top;\n",
       "    }\n",
       "\n",
       "    .dataframe thead th {\n",
       "        text-align: right;\n",
       "    }\n",
       "</style>\n",
       "<table border=\"1\" class=\"dataframe\">\n",
       "  <thead>\n",
       "    <tr style=\"text-align: right;\">\n",
       "      <th></th>\n",
       "      <th>State</th>\n",
       "      <th>District</th>\n",
       "      <th>Year</th>\n",
       "      <th>Season</th>\n",
       "      <th>Crop</th>\n",
       "      <th>Area</th>\n",
       "      <th>Production</th>\n",
       "      <th>Yield</th>\n",
       "    </tr>\n",
       "  </thead>\n",
       "  <tbody>\n",
       "    <tr>\n",
       "      <th>7814</th>\n",
       "      <td>Tamil Nadu</td>\n",
       "      <td>THANJAVUR</td>\n",
       "      <td>1997</td>\n",
       "      <td>Whole Year</td>\n",
       "      <td>Rice</td>\n",
       "      <td>181496</td>\n",
       "      <td>489770.0</td>\n",
       "      <td>2.698517</td>\n",
       "    </tr>\n",
       "    <tr>\n",
       "      <th>7828</th>\n",
       "      <td>Tamil Nadu</td>\n",
       "      <td>THANJAVUR</td>\n",
       "      <td>1998</td>\n",
       "      <td>Kharif</td>\n",
       "      <td>Rice</td>\n",
       "      <td>194652</td>\n",
       "      <td>674525.0</td>\n",
       "      <td>3.465287</td>\n",
       "    </tr>\n",
       "    <tr>\n",
       "      <th>7847</th>\n",
       "      <td>Tamil Nadu</td>\n",
       "      <td>THANJAVUR</td>\n",
       "      <td>1999</td>\n",
       "      <td>Kharif</td>\n",
       "      <td>Rice</td>\n",
       "      <td>189074</td>\n",
       "      <td>610534.0</td>\n",
       "      <td>3.229074</td>\n",
       "    </tr>\n",
       "    <tr>\n",
       "      <th>7867</th>\n",
       "      <td>Tamil Nadu</td>\n",
       "      <td>THANJAVUR</td>\n",
       "      <td>2000</td>\n",
       "      <td>Kharif</td>\n",
       "      <td>Rice</td>\n",
       "      <td>196816</td>\n",
       "      <td>678014.0</td>\n",
       "      <td>3.444913</td>\n",
       "    </tr>\n",
       "    <tr>\n",
       "      <th>7885</th>\n",
       "      <td>Tamil Nadu</td>\n",
       "      <td>THANJAVUR</td>\n",
       "      <td>2001</td>\n",
       "      <td>Kharif</td>\n",
       "      <td>Rice</td>\n",
       "      <td>192161</td>\n",
       "      <td>561650.0</td>\n",
       "      <td>2.922810</td>\n",
       "    </tr>\n",
       "    <tr>\n",
       "      <th>7897</th>\n",
       "      <td>Tamil Nadu</td>\n",
       "      <td>THANJAVUR</td>\n",
       "      <td>2002</td>\n",
       "      <td>Kharif</td>\n",
       "      <td>Rice</td>\n",
       "      <td>139186</td>\n",
       "      <td>318325.0</td>\n",
       "      <td>2.287048</td>\n",
       "    </tr>\n",
       "    <tr>\n",
       "      <th>7946</th>\n",
       "      <td>Tamil Nadu</td>\n",
       "      <td>THANJAVUR</td>\n",
       "      <td>2003</td>\n",
       "      <td>Kharif</td>\n",
       "      <td>Rice</td>\n",
       "      <td>123293</td>\n",
       "      <td>354937.0</td>\n",
       "      <td>2.878809</td>\n",
       "    </tr>\n",
       "    <tr>\n",
       "      <th>7991</th>\n",
       "      <td>Tamil Nadu</td>\n",
       "      <td>THANJAVUR</td>\n",
       "      <td>2004</td>\n",
       "      <td>Kharif</td>\n",
       "      <td>Rice</td>\n",
       "      <td>160608</td>\n",
       "      <td>439323.0</td>\n",
       "      <td>2.735374</td>\n",
       "    </tr>\n",
       "    <tr>\n",
       "      <th>8015</th>\n",
       "      <td>Tamil Nadu</td>\n",
       "      <td>THANJAVUR</td>\n",
       "      <td>2005</td>\n",
       "      <td>Kharif</td>\n",
       "      <td>Rice</td>\n",
       "      <td>154901</td>\n",
       "      <td>399483.0</td>\n",
       "      <td>2.578957</td>\n",
       "    </tr>\n",
       "    <tr>\n",
       "      <th>8031</th>\n",
       "      <td>Tamil Nadu</td>\n",
       "      <td>THANJAVUR</td>\n",
       "      <td>2006</td>\n",
       "      <td>Kharif</td>\n",
       "      <td>Rice</td>\n",
       "      <td>164243</td>\n",
       "      <td>598160.0</td>\n",
       "      <td>3.641921</td>\n",
       "    </tr>\n",
       "    <tr>\n",
       "      <th>8055</th>\n",
       "      <td>Tamil Nadu</td>\n",
       "      <td>THANJAVUR</td>\n",
       "      <td>2007</td>\n",
       "      <td>Kharif</td>\n",
       "      <td>Rice</td>\n",
       "      <td>150228</td>\n",
       "      <td>479643.0</td>\n",
       "      <td>3.192767</td>\n",
       "    </tr>\n",
       "    <tr>\n",
       "      <th>8081</th>\n",
       "      <td>Tamil Nadu</td>\n",
       "      <td>THANJAVUR</td>\n",
       "      <td>2008</td>\n",
       "      <td>Kharif</td>\n",
       "      <td>Rice</td>\n",
       "      <td>177094</td>\n",
       "      <td>357161.0</td>\n",
       "      <td>2.016788</td>\n",
       "    </tr>\n",
       "    <tr>\n",
       "      <th>8108</th>\n",
       "      <td>Tamil Nadu</td>\n",
       "      <td>THANJAVUR</td>\n",
       "      <td>2009</td>\n",
       "      <td>Kharif</td>\n",
       "      <td>Rice</td>\n",
       "      <td>162938</td>\n",
       "      <td>427142.0</td>\n",
       "      <td>2.621500</td>\n",
       "    </tr>\n",
       "    <tr>\n",
       "      <th>8138</th>\n",
       "      <td>Tamil Nadu</td>\n",
       "      <td>THANJAVUR</td>\n",
       "      <td>2010</td>\n",
       "      <td>Kharif</td>\n",
       "      <td>Rice</td>\n",
       "      <td>166209</td>\n",
       "      <td>476793.0</td>\n",
       "      <td>2.868635</td>\n",
       "    </tr>\n",
       "    <tr>\n",
       "      <th>8148</th>\n",
       "      <td>Tamil Nadu</td>\n",
       "      <td>THANJAVUR</td>\n",
       "      <td>2011</td>\n",
       "      <td>Kharif</td>\n",
       "      <td>Rice</td>\n",
       "      <td>180859</td>\n",
       "      <td>722576.0</td>\n",
       "      <td>3.995245</td>\n",
       "    </tr>\n",
       "    <tr>\n",
       "      <th>8176</th>\n",
       "      <td>Tamil Nadu</td>\n",
       "      <td>THANJAVUR</td>\n",
       "      <td>2012</td>\n",
       "      <td>Kharif</td>\n",
       "      <td>Rice</td>\n",
       "      <td>146959</td>\n",
       "      <td>431121.0</td>\n",
       "      <td>2.933614</td>\n",
       "    </tr>\n",
       "    <tr>\n",
       "      <th>8185</th>\n",
       "      <td>Tamil Nadu</td>\n",
       "      <td>THANJAVUR</td>\n",
       "      <td>2013</td>\n",
       "      <td>Kharif</td>\n",
       "      <td>Rice</td>\n",
       "      <td>167289</td>\n",
       "      <td>831483.0</td>\n",
       "      <td>4.970339</td>\n",
       "    </tr>\n",
       "  </tbody>\n",
       "</table>\n",
       "</div>"
      ],
      "text/plain": [
       "           State   District  Year       Season  Crop    Area  Production  \\\n",
       "7814  Tamil Nadu  THANJAVUR  1997  Whole Year   Rice  181496    489770.0   \n",
       "7828  Tamil Nadu  THANJAVUR  1998  Kharif       Rice  194652    674525.0   \n",
       "7847  Tamil Nadu  THANJAVUR  1999  Kharif       Rice  189074    610534.0   \n",
       "7867  Tamil Nadu  THANJAVUR  2000  Kharif       Rice  196816    678014.0   \n",
       "7885  Tamil Nadu  THANJAVUR  2001  Kharif       Rice  192161    561650.0   \n",
       "7897  Tamil Nadu  THANJAVUR  2002  Kharif       Rice  139186    318325.0   \n",
       "7946  Tamil Nadu  THANJAVUR  2003  Kharif       Rice  123293    354937.0   \n",
       "7991  Tamil Nadu  THANJAVUR  2004  Kharif       Rice  160608    439323.0   \n",
       "8015  Tamil Nadu  THANJAVUR  2005  Kharif       Rice  154901    399483.0   \n",
       "8031  Tamil Nadu  THANJAVUR  2006  Kharif       Rice  164243    598160.0   \n",
       "8055  Tamil Nadu  THANJAVUR  2007  Kharif       Rice  150228    479643.0   \n",
       "8081  Tamil Nadu  THANJAVUR  2008  Kharif       Rice  177094    357161.0   \n",
       "8108  Tamil Nadu  THANJAVUR  2009  Kharif       Rice  162938    427142.0   \n",
       "8138  Tamil Nadu  THANJAVUR  2010  Kharif       Rice  166209    476793.0   \n",
       "8148  Tamil Nadu  THANJAVUR  2011  Kharif       Rice  180859    722576.0   \n",
       "8176  Tamil Nadu  THANJAVUR  2012  Kharif       Rice  146959    431121.0   \n",
       "8185  Tamil Nadu  THANJAVUR  2013  Kharif       Rice  167289    831483.0   \n",
       "\n",
       "         Yield  \n",
       "7814  2.698517  \n",
       "7828  3.465287  \n",
       "7847  3.229074  \n",
       "7867  3.444913  \n",
       "7885  2.922810  \n",
       "7897  2.287048  \n",
       "7946  2.878809  \n",
       "7991  2.735374  \n",
       "8015  2.578957  \n",
       "8031  3.641921  \n",
       "8055  3.192767  \n",
       "8081  2.016788  \n",
       "8108  2.621500  \n",
       "8138  2.868635  \n",
       "8148  3.995245  \n",
       "8176  2.933614  \n",
       "8185  4.970339  "
      ]
     },
     "execution_count": 6,
     "metadata": {},
     "output_type": "execute_result"
    }
   ],
   "source": [
    "df1 = df.loc[(df['District'] == District) & (df['Crop'] == Crop)]\n",
    "df1"
   ]
  },
  {
   "cell_type": "code",
   "execution_count": 7,
   "metadata": {},
   "outputs": [
    {
     "data": {
      "text/plain": [
       "<matplotlib.axes._subplots.AxesSubplot at 0x197877610d0>"
      ]
     },
     "execution_count": 7,
     "metadata": {},
     "output_type": "execute_result"
    },
    {
     "data": {
      "image/png": "[encoded data removed]",
      "text/plain": [
       "<Figure size 1152x432 with 1 Axes>"
      ]
     },
     "metadata": {
      "needs_background": "light"
     },
     "output_type": "display_data"
    }
   ],
   "source": [
    "plotdf = df1[['Year','Area','Production','Yield']].set_index('Year')\n",
    "plotdf.plot(kind='bar',figsize=(16,6))"
   ]
  },
  {
   "cell_type": "code",
   "execution_count": 8,
   "metadata": {},
   "outputs": [],
   "source": [
    "cat_data = df1[['Year','Season','Area','Production','Yield']]\n",
    "cat_data = cat_data.join(pd.get_dummies(cat_data['Season']))"
   ]
  },
  {
   "cell_type": "code",
   "execution_count": 9,
   "metadata": {},
   "outputs": [
    {
     "data": {
      "text/html": [
       "<div>\n",
       "<style scoped>\n",
       "    .dataframe tbody tr th:only-of-type {\n",
       "        vertical-align: middle;\n",
       "    }\n",
       "\n",
       "    .dataframe tbody tr th {\n",
       "        vertical-align: top;\n",
       "    }\n",
       "\n",
       "    .dataframe thead th {\n",
       "        text-align: right;\n",
       "    }\n",
       "</style>\n",
       "<table border=\"1\" class=\"dataframe\">\n",
       "  <thead>\n",
       "    <tr style=\"text-align: right;\">\n",
       "      <th></th>\n",
       "      <th>Year</th>\n",
       "      <th>Season</th>\n",
       "      <th>Area</th>\n",
       "      <th>Production</th>\n",
       "      <th>Yield</th>\n",
       "      <th>Kharif</th>\n",
       "      <th>Whole Year</th>\n",
       "    </tr>\n",
       "  </thead>\n",
       "  <tbody>\n",
       "    <tr>\n",
       "      <th>7814</th>\n",
       "      <td>1997</td>\n",
       "      <td>Whole Year</td>\n",
       "      <td>181496</td>\n",
       "      <td>489770.0</td>\n",
       "      <td>2.698517</td>\n",
       "      <td>0</td>\n",
       "      <td>1</td>\n",
       "    </tr>\n",
       "    <tr>\n",
       "      <th>7828</th>\n",
       "      <td>1998</td>\n",
       "      <td>Kharif</td>\n",
       "      <td>194652</td>\n",
       "      <td>674525.0</td>\n",
       "      <td>3.465287</td>\n",
       "      <td>1</td>\n",
       "      <td>0</td>\n",
       "    </tr>\n",
       "    <tr>\n",
       "      <th>7847</th>\n",
       "      <td>1999</td>\n",
       "      <td>Kharif</td>\n",
       "      <td>189074</td>\n",
       "      <td>610534.0</td>\n",
       "      <td>3.229074</td>\n",
       "      <td>1</td>\n",
       "      <td>0</td>\n",
       "    </tr>\n",
       "    <tr>\n",
       "      <th>7867</th>\n",
       "      <td>2000</td>\n",
       "      <td>Kharif</td>\n",
       "      <td>196816</td>\n",
       "      <td>678014.0</td>\n",
       "      <td>3.444913</td>\n",
       "      <td>1</td>\n",
       "      <td>0</td>\n",
       "    </tr>\n",
       "    <tr>\n",
       "      <th>7885</th>\n",
       "      <td>2001</td>\n",
       "      <td>Kharif</td>\n",
       "      <td>192161</td>\n",
       "      <td>561650.0</td>\n",
       "      <td>2.922810</td>\n",
       "      <td>1</td>\n",
       "      <td>0</td>\n",
       "    </tr>\n",
       "    <tr>\n",
       "      <th>7897</th>\n",
       "      <td>2002</td>\n",
       "      <td>Kharif</td>\n",
       "      <td>139186</td>\n",
       "      <td>318325.0</td>\n",
       "      <td>2.287048</td>\n",
       "      <td>1</td>\n",
       "      <td>0</td>\n",
       "    </tr>\n",
       "    <tr>\n",
       "      <th>7946</th>\n",
       "      <td>2003</td>\n",
       "      <td>Kharif</td>\n",
       "      <td>123293</td>\n",
       "      <td>354937.0</td>\n",
       "      <td>2.878809</td>\n",
       "      <td>1</td>\n",
       "      <td>0</td>\n",
       "    </tr>\n",
       "    <tr>\n",
       "      <th>7991</th>\n",
       "      <td>2004</td>\n",
       "      <td>Kharif</td>\n",
       "      <td>160608</td>\n",
       "      <td>439323.0</td>\n",
       "      <td>2.735374</td>\n",
       "      <td>1</td>\n",
       "      <td>0</td>\n",
       "    </tr>\n",
       "    <tr>\n",
       "      <th>8015</th>\n",
       "      <td>2005</td>\n",
       "      <td>Kharif</td>\n",
       "      <td>154901</td>\n",
       "      <td>399483.0</td>\n",
       "      <td>2.578957</td>\n",
       "      <td>1</td>\n",
       "      <td>0</td>\n",
       "    </tr>\n",
       "    <tr>\n",
       "      <th>8031</th>\n",
       "      <td>2006</td>\n",
       "      <td>Kharif</td>\n",
       "      <td>164243</td>\n",
       "      <td>598160.0</td>\n",
       "      <td>3.641921</td>\n",
       "      <td>1</td>\n",
       "      <td>0</td>\n",
       "    </tr>\n",
       "    <tr>\n",
       "      <th>8055</th>\n",
       "      <td>2007</td>\n",
       "      <td>Kharif</td>\n",
       "      <td>150228</td>\n",
       "      <td>479643.0</td>\n",
       "      <td>3.192767</td>\n",
       "      <td>1</td>\n",
       "      <td>0</td>\n",
       "    </tr>\n",
       "    <tr>\n",
       "      <th>8081</th>\n",
       "      <td>2008</td>\n",
       "      <td>Kharif</td>\n",
       "      <td>177094</td>\n",
       "      <td>357161.0</td>\n",
       "      <td>2.016788</td>\n",
       "      <td>1</td>\n",
       "      <td>0</td>\n",
       "    </tr>\n",
       "    <tr>\n",
       "      <th>8108</th>\n",
       "      <td>2009</td>\n",
       "      <td>Kharif</td>\n",
       "      <td>162938</td>\n",
       "      <td>427142.0</td>\n",
       "      <td>2.621500</td>\n",
       "      <td>1</td>\n",
       "      <td>0</td>\n",
       "    </tr>\n",
       "    <tr>\n",
       "      <th>8138</th>\n",
       "      <td>2010</td>\n",
       "      <td>Kharif</td>\n",
       "      <td>166209</td>\n",
       "      <td>476793.0</td>\n",
       "      <td>2.868635</td>\n",
       "      <td>1</td>\n",
       "      <td>0</td>\n",
       "    </tr>\n",
       "    <tr>\n",
       "      <th>8148</th>\n",
       "      <td>2011</td>\n",
       "      <td>Kharif</td>\n",
       "      <td>180859</td>\n",
       "      <td>722576.0</td>\n",
       "      <td>3.995245</td>\n",
       "      <td>1</td>\n",
       "      <td>0</td>\n",
       "    </tr>\n",
       "    <tr>\n",
       "      <th>8176</th>\n",
       "      <td>2012</td>\n",
       "      <td>Kharif</td>\n",
       "      <td>146959</td>\n",
       "      <td>431121.0</td>\n",
       "      <td>2.933614</td>\n",
       "      <td>1</td>\n",
       "      <td>0</td>\n",
       "    </tr>\n",
       "    <tr>\n",
       "      <th>8185</th>\n",
       "      <td>2013</td>\n",
       "      <td>Kharif</td>\n",
       "      <td>167289</td>\n",
       "      <td>831483.0</td>\n",
       "      <td>4.970339</td>\n",
       "      <td>1</td>\n",
       "      <td>0</td>\n",
       "    </tr>\n",
       "  </tbody>\n",
       "</table>\n",
       "</div>"
      ],
      "text/plain": [
       "      Year       Season    Area  Production     Yield  Kharif  Whole Year\n",
       "7814  1997  Whole Year   181496    489770.0  2.698517       0           1\n",
       "7828  1998  Kharif       194652    674525.0  3.465287       1           0\n",
       "7847  1999  Kharif       189074    610534.0  3.229074       1           0\n",
       "7867  2000  Kharif       196816    678014.0  3.444913       1           0\n",
       "7885  2001  Kharif       192161    561650.0  2.922810       1           0\n",
       "7897  2002  Kharif       139186    318325.0  2.287048       1           0\n",
       "7946  2003  Kharif       123293    354937.0  2.878809       1           0\n",
       "7991  2004  Kharif       160608    439323.0  2.735374       1           0\n",
       "8015  2005  Kharif       154901    399483.0  2.578957       1           0\n",
       "8031  2006  Kharif       164243    598160.0  3.641921       1           0\n",
       "8055  2007  Kharif       150228    479643.0  3.192767       1           0\n",
       "8081  2008  Kharif       177094    357161.0  2.016788       1           0\n",
       "8108  2009  Kharif       162938    427142.0  2.621500       1           0\n",
       "8138  2010  Kharif       166209    476793.0  2.868635       1           0\n",
       "8148  2011  Kharif       180859    722576.0  3.995245       1           0\n",
       "8176  2012  Kharif       146959    431121.0  2.933614       1           0\n",
       "8185  2013  Kharif       167289    831483.0  4.970339       1           0"
      ]
     },
     "execution_count": 9,
     "metadata": {},
     "output_type": "execute_result"
    }
   ],
   "source": [
    "cat_data.columns = cat_data.columns.to_series().apply(lambda x: x.strip())\n",
    "cat_data"
   ]
  },
  {
   "cell_type": "code",
   "execution_count": 10,
   "metadata": {},
   "outputs": [],
   "source": [
    "x = cat_data[['Year','Area','Whole Year','Kharif']].values\n",
    "y = cat_data[['Production','Yield']].values"
   ]
  },
  {
   "cell_type": "code",
   "execution_count": 11,
   "metadata": {},
   "outputs": [
    {
     "name": "stdout",
     "output_type": "stream",
     "text": [
      "(17, 4)\n",
      "(17, 2)\n"
     ]
    }
   ],
   "source": [
    "print(x.shape)\n",
    "print(y.shape)"
   ]
  },
  {
   "cell_type": "code",
   "execution_count": 12,
   "metadata": {},
   "outputs": [],
   "source": [
    "from sklearn.linear_model import LinearRegression\n",
    "from sklearn.metrics import *"
   ]
  },
  {
   "cell_type": "code",
   "execution_count": 13,
   "metadata": {},
   "outputs": [],
   "source": [
    "from sklearn.model_selection import train_test_split\n",
    "x_train,x_test,y_train,y_test = train_test_split(x,y,test_size = 0.2,random_state = 10)"
   ]
  },
  {
   "cell_type": "code",
   "execution_count": 14,
   "metadata": {},
   "outputs": [
    {
     "name": "stdout",
     "output_type": "stream",
     "text": [
      "(13, 4)\n",
      "(4, 4)\n",
      "(13, 2)\n",
      "(4, 2)\n"
     ]
    }
   ],
   "source": [
    "print(x_train.shape)\n",
    "print(x_test.shape)\n",
    "print(y_train.shape)\n",
    "print(y_test.shape)"
   ]
  },
  {
   "cell_type": "markdown",
   "metadata": {},
   "source": [
    "# Linear Regressor"
   ]
  },
  {
   "cell_type": "code",
   "execution_count": 15,
   "metadata": {},
   "outputs": [
    {
     "data": {
      "text/plain": [
       "array([[3.85774382e+05, 2.77688115e+00],\n",
       "       [6.14402841e+05, 3.12198581e+00],\n",
       "       [6.06612590e+05, 3.40222593e+00],\n",
       "       [4.85338590e+05, 3.00385503e+00]])"
      ]
     },
     "execution_count": 15,
     "metadata": {},
     "output_type": "execute_result"
    }
   ],
   "source": [
    "LR_model = LinearRegression()\n",
    "LR_model.fit(x_train,y_train)\n",
    "y_pred1 = LR_model.predict(x_test)\n",
    "y_pred1"
   ]
  },
  {
   "cell_type": "code",
   "execution_count": 17,
   "metadata": {},
   "outputs": [
    {
     "data": {
      "text/plain": [
       "{'Original': array([3.18325000e+05, 2.28704755e+00, 6.78014000e+05, 3.44491302e+00,\n",
       "        7.22576000e+05, 3.99524491e+00, 4.39323000e+05, 2.73537433e+00]),\n",
       " 'Predicted': array([3.85774382e+05, 2.77688115e+00, 6.14402841e+05, 3.12198581e+00,\n",
       "        6.06612590e+05, 3.40222593e+00, 4.85338590e+05, 3.00385503e+00])}"
      ]
     },
     "execution_count": 17,
     "metadata": {},
     "output_type": "execute_result"
    }
   ],
   "source": [
    "pre_result = {\"Original\":y_test.ravel(),\"Predicted\":y_pred1.ravel()}\n",
    "pre_result"
   ]
  },
  {
   "cell_type": "code",
   "execution_count": 18,
   "metadata": {},
   "outputs": [
    {
     "data": {
      "text/plain": [
       "0.1919091693643249"
      ]
     },
     "execution_count": 18,
     "metadata": {},
     "output_type": "execute_result"
    }
   ],
   "source": [
    "LR_model.score(x_train,y_train)"
   ]
  },
  {
   "cell_type": "code",
   "execution_count": 19,
   "metadata": {},
   "outputs": [
    {
     "name": "stdout",
     "output_type": "stream",
     "text": [
      "\u001b[1;32m('Accuracy of model : ', 96.5181174573654)\u001b[0m\n"
     ]
    }
   ],
   "source": [
    "print(green((\"Accuracy of model : \",r2_score(y_test.reshape(-1, 1),y_pred1.reshape(-1, 1))*100),['bold']))"
   ]
  },
  {
   "cell_type": "markdown",
   "metadata": {},
   "source": [
    "# RandomForest Regressor"
   ]
  },
  {
   "cell_type": "code",
   "execution_count": 20,
   "metadata": {},
   "outputs": [],
   "source": [
    "from sklearn.ensemble import RandomForestRegressor\n",
    "from sklearn.metrics import *\n",
    "RF_model = RandomForestRegressor()\n",
    "RF_model.fit(x_train,y_train)\n",
    "y_pred2 = RF_model.predict(x_test)"
   ]
  },
  {
   "cell_type": "code",
   "execution_count": 21,
   "metadata": {},
   "outputs": [
    {
     "data": {
      "text/plain": [
       "{'Original': array([3.18325000e+05, 2.28704755e+00, 6.78014000e+05, 3.44491302e+00,\n",
       "        7.22576000e+05, 3.99524491e+00, 4.39323000e+05, 2.73537433e+00]),\n",
       " 'Predicted': array([4.37694940e+05, 2.87983388e+00, 6.05419060e+05, 3.16510766e+00,\n",
       "        4.47872790e+05, 2.61790853e+00, 4.62956230e+05, 3.02636170e+00])}"
      ]
     },
     "execution_count": 21,
     "metadata": {},
     "output_type": "execute_result"
    }
   ],
   "source": [
    "pre_result1 = {\"Original\":y_test.ravel(),\"Predicted\":y_pred2.ravel()}\n",
    "pre_result1"
   ]
  },
  {
   "cell_type": "code",
   "execution_count": 22,
   "metadata": {},
   "outputs": [
    {
     "data": {
      "text/plain": [
       "0.7720992462386156"
      ]
     },
     "execution_count": 22,
     "metadata": {},
     "output_type": "execute_result"
    }
   ],
   "source": [
    "RF_model.score(x_train,y_train)"
   ]
  },
  {
   "cell_type": "code",
   "execution_count": 23,
   "metadata": {},
   "outputs": [],
   "source": [
    "y_test = y_test.reshape(-1,1)\n",
    "y_pred2 = y_pred2.reshape(-1,1)"
   ]
  },
  {
   "cell_type": "code",
   "execution_count": 24,
   "metadata": {},
   "outputs": [
    {
     "name": "stdout",
     "output_type": "stream",
     "text": [
      "\u001b[1;32m('Accuracy of model : ', 86.23148319007893)\u001b[0m\n"
     ]
    }
   ],
   "source": [
    "print(green((\"Accuracy of model : \",r2_score(y_test,y_pred2)*100),['bold']))"
   ]
  },
  {
   "cell_type": "code",
   "execution_count": 25,
   "metadata": {},
   "outputs": [],
   "source": [
    "result = [r2_score(y_test.reshape(-1, 1),y_pred1.reshape(-1, 1))*100,r2_score(y_test,y_pred2)*100]"
   ]
  },
  {
   "cell_type": "code",
   "execution_count": 26,
   "metadata": {},
   "outputs": [
    {
     "data": {
      "text/plain": [
       "Text(0, 0.5, 'Percentage')"
      ]
     },
     "execution_count": 26,
     "metadata": {},
     "output_type": "execute_result"
    },
    {
     "data": {
      "image/png": "[encoded data removed]",
      "text/plain": [
       "<Figure size 720x360 with 1 Axes>"
      ]
     },
     "metadata": {
      "needs_background": "light"
     },
     "output_type": "display_data"
    }
   ],
   "source": [
    "import matplotlib.pyplot as plt\n",
    "%matplotlib inline\n",
    "height = result\n",
    "bar = ['Linear Regression','RandomForest Regression']\n",
    "x_pos = np.arange(len(bar))\n",
    "plt.figure(figsize=(10,5))\n",
    "plt.bar(x_pos, height, color=['green', 'blue'])\n",
    "plt.xticks(x_pos, bar)\n",
    "plt.xticks(rotation=0)\n",
    "plt.xlabel('Accuracy')\n",
    "plt.ylabel('Percentage')"
   ]
  },
  {
   "cell_type": "code",
   "execution_count": null,
   "metadata": {},
   "outputs": [],
   "source": []
  }
 ],
 "metadata": {
  "kernelspec": {
   "display_name": "Python 3",
   "language": "python",
   "name": "python3"
  },
  "language_info": {
   "codemirror_mode": {
    "name": "ipython",
    "version": 3
   },
   "file_extension": ".py",
   "mimetype": "text/x-python",
   "name": "python",
   "nbconvert_exporter": "python",
   "pygments_lexer": "ipython3",
   "version": "3.8.3"
  }
 },
 "nbformat": 4,
 "nbformat_minor": 4
}
